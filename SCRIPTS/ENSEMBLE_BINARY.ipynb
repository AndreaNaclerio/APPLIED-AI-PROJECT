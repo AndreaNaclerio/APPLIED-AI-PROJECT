{
  "nbformat": 4,
  "nbformat_minor": 0,
  "metadata": {
    "colab": {
      "provenance": [],
      "gpuType": "T4"
    },
    "kernelspec": {
      "name": "python3",
      "display_name": "Python 3"
    },
    "language_info": {
      "name": "python"
    },
    "accelerator": "GPU"
  },
  "cells": [
    {
      "cell_type": "markdown",
      "source": [
        "#Connect to drive"
      ],
      "metadata": {
        "id": "hGjptfUSCHIp"
      }
    },
    {
      "cell_type": "code",
      "source": [
        "from google.colab import drive\n",
        "drive.mount('/content/drive')"
      ],
      "metadata": {
        "colab": {
          "base_uri": "https://localhost:8080/"
        },
        "id": "dZmUaeno7y14",
        "outputId": "e9e5cae2-1dc5-428b-b640-c9b2e24fd941"
      },
      "execution_count": null,
      "outputs": [
        {
          "output_type": "stream",
          "name": "stdout",
          "text": [
            "Mounted at /content/drive\n"
          ]
        }
      ]
    },
    {
      "cell_type": "markdown",
      "source": [
        "#Import libraries"
      ],
      "metadata": {
        "id": "ysv8sqLxCK_V"
      }
    },
    {
      "cell_type": "code",
      "source": [
        "seed=42\n",
        "import numpy as np\n",
        "import matplotlib\n",
        "import matplotlib.pyplot as plt\n",
        "import scipy.io\n",
        "import numpy as np\n",
        "import os\n",
        "import warnings\n",
        "warnings.filterwarnings(\"ignore\")\n",
        "import tensorflow as tf\n",
        "import tensorflow.keras as tfk\n",
        "import tensorflow.keras.layers as tfkl\n",
        "from sklearn.metrics import ConfusionMatrixDisplay, classification_report\n",
        "from tensorflow.keras.models import save_model, load_model"
      ],
      "metadata": {
        "id": "xjCg0DoZ5xrJ"
      },
      "execution_count": null,
      "outputs": []
    },
    {
      "cell_type": "markdown",
      "source": [
        "#Universal variables"
      ],
      "metadata": {
        "id": "ULv0X2ZAQEOs"
      }
    },
    {
      "cell_type": "code",
      "source": [
        "numero_cicli=2\n",
        "fs=128\n",
        "bpm_min=40\n",
        "lunghezza_max=int(60*numero_cicli*fs/bpm_min)\n",
        "input_shape = [lunghezza_max,1]\n",
        "batch_size = 256\n",
        "epochs = 50\n",
        "LR = 0.005\n",
        "patience_ES = 10\n",
        "patience_LR = 5\n",
        "factor_LR = 0.5"
      ],
      "metadata": {
        "id": "yMBBVyuGILAP"
      },
      "execution_count": null,
      "outputs": []
    },
    {
      "cell_type": "markdown",
      "source": [
        "#Load data"
      ],
      "metadata": {
        "id": "hkcUNr_aCRKT"
      }
    },
    {
      "cell_type": "code",
      "source": [
        "test_single_peaks_V = np.load('/content/drive/MyDrive/APPLED_AI_ASSIGMENT/FINAL_DATA/test_single_peaks_V.npy',allow_pickle=True)\n",
        "test_single_peaks_N = np.load('/content/drive/MyDrive/APPLED_AI_ASSIGMENT/FINAL_DATA/test_single_peaks_N.npy',allow_pickle=True)\n",
        "test_single_peaks_S = np.load('/content/drive/MyDrive/APPLED_AI_ASSIGMENT/FINAL_DATA/test_single_peaks_S.npy',allow_pickle=True)"
      ],
      "metadata": {
        "id": "MHz-ohfVCSjW"
      },
      "execution_count": null,
      "outputs": []
    },
    {
      "cell_type": "markdown",
      "source": [
        "#Zero-padding on signals\n"
      ],
      "metadata": {
        "id": "JjrLb9rdQNqG"
      }
    },
    {
      "cell_type": "code",
      "source": [
        "#function that zero pads single_peaks_X in order to obtain the same length for all the signals\n",
        "#we thought that streatch the signals would modify them too much\n",
        "def zero_pad_signals(single_peaks_X,lunghezza_max=384):\n",
        "  single_peaks_X_new=[]\n",
        "  for i in range(single_peaks_X.shape[0]):\n",
        "    difference=lunghezza_max-single_peaks_X[i].shape[0]\n",
        "    if difference%2==0:\n",
        "      new_signal=np.concatenate([np.zeros(int(difference//2)),single_peaks_X[i],np.zeros(int(difference//2))],axis=0)\n",
        "    else:\n",
        "      new_signal=np.concatenate([np.zeros(int(difference//2)),single_peaks_X[i],np.zeros(int(difference//2+1))],axis=0)\n",
        "    single_peaks_X_new.append(new_signal)\n",
        "  return np.array(single_peaks_X_new)"
      ],
      "metadata": {
        "id": "X3vRh6kBQRlE"
      },
      "execution_count": null,
      "outputs": []
    },
    {
      "cell_type": "code",
      "source": [
        "test_single_peaks_V=zero_pad_signals(test_single_peaks_V)\n",
        "test_single_peaks_N=zero_pad_signals(test_single_peaks_N)\n",
        "test_single_peaks_S=zero_pad_signals(test_single_peaks_S)"
      ],
      "metadata": {
        "id": "orhqyw5lSQHq"
      },
      "execution_count": null,
      "outputs": []
    },
    {
      "cell_type": "markdown",
      "source": [
        "#X_test, y_test"
      ],
      "metadata": {
        "id": "zcE9lLA5lDHt"
      }
    },
    {
      "cell_type": "code",
      "source": [
        "#[0] -> N\n",
        "#[1] -> SV\n",
        "X_test=np.concatenate([test_single_peaks_N,test_single_peaks_V,test_single_peaks_S],axis=0)\n",
        "y_test=np.concatenate([np.zeros(test_single_peaks_N.shape[0]),np.ones(test_single_peaks_S.shape[0]),np.ones(test_single_peaks_V.shape[0])],axis=0)"
      ],
      "metadata": {
        "id": "p1ByTkyfkd26"
      },
      "execution_count": null,
      "outputs": []
    },
    {
      "cell_type": "markdown",
      "source": [
        "#load models"
      ],
      "metadata": {
        "id": "JMohK-Rklzva"
      }
    },
    {
      "cell_type": "code",
      "source": [
        "model1 = load_model('/content/drive/MyDrive/APPLED_AI_ASSIGMENT/TRAIN_ENSEMBLE/ENSAMBLE1')\n",
        "model2 = load_model('/content/drive/MyDrive/APPLED_AI_ASSIGMENT/TRAIN_ENSEMBLE/ENSAMBLE2')\n",
        "model3 = load_model('/content/drive/MyDrive/APPLED_AI_ASSIGMENT/TRAIN_ENSEMBLE/ENSAMBLE3')\n",
        "model4 = load_model('/content/drive/MyDrive/APPLED_AI_ASSIGMENT/TRAIN_ENSEMBLE/ENSAMBLE4')\n",
        "model5 = load_model('/content/drive/MyDrive/APPLED_AI_ASSIGMENT/TRAIN_ENSEMBLE/ENSAMBLE5')"
      ],
      "metadata": {
        "id": "FNRDPJffl079"
      },
      "execution_count": null,
      "outputs": []
    },
    {
      "cell_type": "markdown",
      "source": [
        "#predictions"
      ],
      "metadata": {
        "id": "SB4IDmLHmGou"
      }
    },
    {
      "cell_type": "code",
      "source": [
        "y1=model1.predict(X_test)\n",
        "y2=model2.predict(X_test)\n",
        "y3=model3.predict(X_test)\n",
        "y4=model4.predict(X_test)\n",
        "y5=model5.predict(X_test)"
      ],
      "metadata": {
        "colab": {
          "base_uri": "https://localhost:8080/"
        },
        "id": "L7ofYz3LmIBl",
        "outputId": "4d9c7d4c-5dbe-4345-aa80-a2d51c9e3457"
      },
      "execution_count": null,
      "outputs": [
        {
          "output_type": "stream",
          "name": "stdout",
          "text": [
            "707/707 [==============================] - 15s 17ms/step\n",
            "707/707 [==============================] - 13s 17ms/step\n",
            "707/707 [==============================] - 14s 17ms/step\n",
            "707/707 [==============================] - 14s 18ms/step\n",
            "707/707 [==============================] - 13s 17ms/step\n"
          ]
        }
      ]
    },
    {
      "cell_type": "markdown",
      "source": [
        "#ensemble"
      ],
      "metadata": {
        "id": "dwWRL4WXmgG6"
      }
    },
    {
      "cell_type": "markdown",
      "source": [
        "##1:"
      ],
      "metadata": {
        "id": "MgIWRQNUaG6c"
      }
    },
    {
      "cell_type": "code",
      "source": [
        "def postprocess(y,thres=0.75):\n",
        "  y_post=[]\n",
        "  for i in range(y.shape[0]):\n",
        "    if y[i]<thres:\n",
        "      y_post.append(0)\n",
        "    else:\n",
        "      y_post.append(1)\n",
        "  return np.array(y_post)"
      ],
      "metadata": {
        "id": "KdfLykjzmqUO"
      },
      "execution_count": null,
      "outputs": []
    },
    {
      "cell_type": "code",
      "source": [
        "y=[]\n",
        "for i in range(y1.shape[0]):\n",
        "  y.append(np.mean([y1[i],y4[i],y2[i],y3[i],y5[i]]))#\n",
        "y=np.array(y)"
      ],
      "metadata": {
        "id": "EwQOW25nmhP0"
      },
      "execution_count": null,
      "outputs": []
    },
    {
      "cell_type": "code",
      "source": [
        "y_post=postprocess(y)"
      ],
      "metadata": {
        "id": "YI3TdkQrmmDo"
      },
      "execution_count": null,
      "outputs": []
    },
    {
      "cell_type": "code",
      "source": [
        "ConfusionMatrixDisplay.from_predictions(y_test,y_post)\n",
        "\n",
        "print(classification_report(y_test,y_post))"
      ],
      "metadata": {
        "id": "AtlaPacP55yY",
        "colab": {
          "base_uri": "https://localhost:8080/",
          "height": 605
        },
        "outputId": "05a0be6b-b211-4272-b58b-5dbad57aec81"
      },
      "execution_count": null,
      "outputs": [
        {
          "output_type": "stream",
          "name": "stdout",
          "text": [
            "              precision    recall  f1-score   support\n",
            "\n",
            "         0.0       0.98      0.91      0.94     18934\n",
            "         1.0       0.65      0.90      0.76      3678\n",
            "\n",
            "    accuracy                           0.91     22612\n",
            "   macro avg       0.82      0.90      0.85     22612\n",
            "weighted avg       0.93      0.91      0.91     22612\n",
            "\n"
          ]
        },
        {
          "output_type": "display_data",
          "data": {
            "text/plain": [
              "<Figure size 640x480 with 2 Axes>"
            ],
            "image/png": "[encoded data removed]"
          },
          "metadata": {}
        }
      ]
    },
    {
      "cell_type": "markdown",
      "source": [
        "##2:"
      ],
      "metadata": {
        "id": "um9LjsHSaIHU"
      }
    },
    {
      "cell_type": "code",
      "source": [
        "balanced_test=True\n",
        "if balanced_test:\n",
        "  numero=test_single_peaks_V.shape[0]+test_single_peaks_S.shape[0]\n",
        "  y_post=y_post[-2*numero:]\n",
        "  y_test=y_test[-2*numero:]"
      ],
      "metadata": {
        "id": "QuBcUsaVaJI7"
      },
      "execution_count": null,
      "outputs": []
    },
    {
      "cell_type": "code",
      "source": [
        "ConfusionMatrixDisplay.from_predictions(y_test,y_post)\n",
        "\n",
        "print(classification_report(y_test,y_post))"
      ],
      "metadata": {
        "colab": {
          "base_uri": "https://localhost:8080/",
          "height": 605
        },
        "id": "RTiBSB5JaWbN",
        "outputId": "283693aa-55f7-4f0e-bd6f-d62254cd0013"
      },
      "execution_count": null,
      "outputs": [
        {
          "output_type": "stream",
          "name": "stdout",
          "text": [
            "              precision    recall  f1-score   support\n",
            "\n",
            "         0.0       0.90      0.89      0.89      3678\n",
            "         1.0       0.89      0.90      0.90      3678\n",
            "\n",
            "    accuracy                           0.89      7356\n",
            "   macro avg       0.89      0.89      0.89      7356\n",
            "weighted avg       0.89      0.89      0.89      7356\n",
            "\n"
          ]
        },
        {
          "output_type": "display_data",
          "data": {
            "text/plain": [
              "<Figure size 640x480 with 2 Axes>"
            ],
            "image/png": "[encoded data removed]"
          },
          "metadata": {}
        }
      ]
    }
  ]
}