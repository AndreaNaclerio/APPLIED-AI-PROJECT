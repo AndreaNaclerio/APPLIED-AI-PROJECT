{
  "nbformat": 4,
  "nbformat_minor": 0,
  "metadata": {
    "colab": {
      "provenance": [],
      "gpuType": "T4",
      "toc_visible": true
    },
    "kernelspec": {
      "name": "python3",
      "display_name": "Python 3"
    },
    "language_info": {
      "name": "python"
    },
    "accelerator": "GPU"
  },
  "cells": [
    {
      "cell_type": "markdown",
      "source": [
        "#Connect to drive"
      ],
      "metadata": {
        "id": "hGjptfUSCHIp"
      }
    },
    {
      "cell_type": "code",
      "source": [
        "from google.colab import drive\n",
        "drive.mount('/content/drive')"
      ],
      "metadata": {
        "id": "dZmUaeno7y14",
        "colab": {
          "base_uri": "https://localhost:8080/"
        },
        "outputId": "4e8ae129-455e-4ebe-c535-f8214ec65968"
      },
      "execution_count": null,
      "outputs": [
        {
          "output_type": "stream",
          "name": "stdout",
          "text": [
            "Mounted at /content/drive\n"
          ]
        }
      ]
    },
    {
      "cell_type": "markdown",
      "source": [
        "#Import libraries"
      ],
      "metadata": {
        "id": "ysv8sqLxCK_V"
      }
    },
    {
      "cell_type": "code",
      "source": [
        "seed=42\n",
        "import numpy as np\n",
        "import matplotlib\n",
        "import matplotlib.pyplot as plt\n",
        "import scipy.io\n",
        "import numpy as np\n",
        "import os\n",
        "import warnings\n",
        "warnings.filterwarnings(\"ignore\")\n",
        "import tensorflow as tf\n",
        "import tensorflow.keras as tfk\n",
        "import tensorflow.keras.layers as tfkl\n",
        "\n",
        "from tensorflow.keras.models import save_model, load_model"
      ],
      "metadata": {
        "id": "xjCg0DoZ5xrJ"
      },
      "execution_count": null,
      "outputs": []
    },
    {
      "cell_type": "markdown",
      "source": [
        "#Universal variables"
      ],
      "metadata": {
        "id": "ULv0X2ZAQEOs"
      }
    },
    {
      "cell_type": "code",
      "source": [
        "numero_cicli=2\n",
        "fs=128\n",
        "bpm_min=40\n",
        "lunghezza_max=int(60*numero_cicli*fs/bpm_min)\n",
        "input_shape = [lunghezza_max,1]\n",
        "input_shape2 = [int(lunghezza_max/2),1] #fft input\n",
        "stats = [10,1] #stats input\n",
        "batch_size = 256\n",
        "epochs = 50\n",
        "LR = 0.0001\n",
        "patience_ES = 20\n",
        "patience_LR = 20\n",
        "factor_LR = 0.5"
      ],
      "metadata": {
        "id": "yMBBVyuGILAP"
      },
      "execution_count": null,
      "outputs": []
    },
    {
      "cell_type": "markdown",
      "source": [
        "#Load"
      ],
      "metadata": {
        "id": "P1wgK_aNppR2"
      }
    },
    {
      "cell_type": "code",
      "source": [
        "val_single_peaks_V = np.load('/content/drive/MyDrive/APPLED_AI_ASSIGMENT/FINAL_DATA/validation_single_peaks_V.npy',allow_pickle=True)\n",
        "val_single_peaks_S = np.load('/content/drive/MyDrive/APPLED_AI_ASSIGMENT/FINAL_DATA/validation_single_peaks_S.npy',allow_pickle=True)\n",
        "val_single_peaks_N = np.load('/content/drive/MyDrive/APPLED_AI_ASSIGMENT/FINAL_DATA/validation_single_peaks_N.npy',allow_pickle=True)\n",
        "\n",
        "val_diff_amp_S = np.load('/content/drive/MyDrive/APPLED_AI_ASSIGMENT/SIGNALS_STATISTIC/diff_amp_val_S.npy')\n",
        "val_diff_amp_V = np.load('/content/drive/MyDrive/APPLED_AI_ASSIGMENT/SIGNALS_STATISTIC/diff_amp_val_V.npy')\n",
        "val_diff_p_s_S = np.load('/content/drive/MyDrive/APPLED_AI_ASSIGMENT/SIGNALS_STATISTIC/diff_p_s_val_S.npy')\n",
        "val_diff_p_s_V = np.load('/content/drive/MyDrive/APPLED_AI_ASSIGMENT/SIGNALS_STATISTIC/diff_p_s_val_V.npy')\n",
        "val_entr_S = np.load('/content/drive/MyDrive/APPLED_AI_ASSIGMENT/SIGNALS_STATISTIC/entr_val_S.npy')\n",
        "val_entr_V = np.load('/content/drive/MyDrive/APPLED_AI_ASSIGMENT/SIGNALS_STATISTIC/entr_val_V.npy')\n",
        "val_kurt_S = np.load('/content/drive/MyDrive/APPLED_AI_ASSIGMENT/SIGNALS_STATISTIC/kurt_val_S.npy')\n",
        "val_kurt_V = np.load('/content/drive/MyDrive/APPLED_AI_ASSIGMENT/SIGNALS_STATISTIC/kurt_val_V.npy')\n",
        "val_mean_S = np.load('/content/drive/MyDrive/APPLED_AI_ASSIGMENT/SIGNALS_STATISTIC/media_val_S.npy')\n",
        "val_mean_V = np.load('/content/drive/MyDrive/APPLED_AI_ASSIGMENT/SIGNALS_STATISTIC/media_val_V.npy')\n",
        "val_rms_S = np.load('/content/drive/MyDrive/APPLED_AI_ASSIGMENT/SIGNALS_STATISTIC/rms_val_S.npy')\n",
        "val_rms_V = np.load('/content/drive/MyDrive/APPLED_AI_ASSIGMENT/SIGNALS_STATISTIC/rms_val_V.npy')\n",
        "val_skew_S = np.load('/content/drive/MyDrive/APPLED_AI_ASSIGMENT/SIGNALS_STATISTIC/skew_val_S.npy')\n",
        "val_skew_V = np.load('/content/drive/MyDrive/APPLED_AI_ASSIGMENT/SIGNALS_STATISTIC/skew_val_V.npy')\n",
        "val_std_S = np.load('/content/drive/MyDrive/APPLED_AI_ASSIGMENT/SIGNALS_STATISTIC/stand_dev_val_S.npy')\n",
        "val_std_V = np.load('/content/drive/MyDrive/APPLED_AI_ASSIGMENT/SIGNALS_STATISTIC/stand_dev_val_V.npy')\n",
        "val_diff_amp_N = np.load('/content/drive/MyDrive/APPLED_AI_ASSIGMENT/SIGNALS_STATISTIC/diff_amp_val_N.npy')\n",
        "val_diff_p_s_N = np.load('/content/drive/MyDrive/APPLED_AI_ASSIGMENT/SIGNALS_STATISTIC/diff_p_s_val_N.npy')\n",
        "val_entr_N = np.load('/content/drive/MyDrive/APPLED_AI_ASSIGMENT/SIGNALS_STATISTIC/entr_val_N.npy')\n",
        "val_kurt_N = np.load('/content/drive/MyDrive/APPLED_AI_ASSIGMENT/SIGNALS_STATISTIC/kurt_val_N.npy')\n",
        "val_mean_N = np.load('/content/drive/MyDrive/APPLED_AI_ASSIGMENT/SIGNALS_STATISTIC/media_val_N.npy')\n",
        "val_rms_N = np.load('/content/drive/MyDrive/APPLED_AI_ASSIGMENT/SIGNALS_STATISTIC/rms_val_N.npy')\n",
        "val_skew_N = np.load('/content/drive/MyDrive/APPLED_AI_ASSIGMENT/SIGNALS_STATISTIC/skew_val_N.npy')\n",
        "val_std_N = np.load('/content/drive/MyDrive/APPLED_AI_ASSIGMENT/SIGNALS_STATISTIC/stand_dev_val_N.npy')"
      ],
      "metadata": {
        "id": "4pWC96K-_5Cf"
      },
      "execution_count": null,
      "outputs": []
    },
    {
      "cell_type": "code",
      "source": [
        "max=229\n",
        "min=23\n",
        "def merge_stats(N,a,b,c,d,e,f,g,h):\n",
        "  final = [0]*N\n",
        "  temp = []\n",
        "  for i in range(N): #for the different signal\n",
        "\n",
        "    temp.append([a[i][0],a[i][1],(b[i][0]-min)/(max-min),(b[i][1]-min)/(max-min),c[i],d[i],e[i],f[i],g[i],h[i]])\n",
        "    final[i] = temp\n",
        "    temp = []\n",
        "  return np.array(final)"
      ],
      "metadata": {
        "id": "MTmrNlvSlS2v"
      },
      "execution_count": null,
      "outputs": []
    },
    {
      "cell_type": "code",
      "source": [
        "val_stats_S = np.squeeze(merge_stats(val_diff_p_s_S.shape[0], val_diff_amp_S, val_diff_p_s_S, val_entr_S, val_kurt_S, val_mean_S, val_rms_S, val_skew_S, val_std_S))\n",
        "val_stats_V = np.squeeze(merge_stats(val_diff_p_s_V.shape[0], val_diff_amp_V, val_diff_p_s_V, val_entr_V, val_kurt_V, val_mean_V, val_rms_V, val_skew_V, val_std_V))\n",
        "val_stats_N = np.squeeze(merge_stats(val_diff_p_s_N.shape[0], val_diff_amp_N, val_diff_p_s_N, val_entr_N, val_kurt_N, val_mean_N, val_rms_N, val_skew_N, val_std_N))"
      ],
      "metadata": {
        "id": "Y8Q3fqPPpriU"
      },
      "execution_count": null,
      "outputs": []
    },
    {
      "cell_type": "code",
      "source": [
        "X=np.concatenate([val_single_peaks_N,val_single_peaks_S,val_single_peaks_V],axis=0)\n",
        "y_binary=np.concatenate([np.zeros(val_single_peaks_N.shape[0]),np.ones(val_single_peaks_S.shape[0]+val_single_peaks_V.shape[0])],axis=0)\n",
        "y_tri=np.concatenate([np.zeros(val_single_peaks_N.shape[0]),np.ones(val_single_peaks_S.shape[0]),2*np.ones(val_single_peaks_V.shape[0])],axis=0)\n",
        "stats=np.concatenate([val_stats_N,val_stats_S,val_stats_V],axis=0)"
      ],
      "metadata": {
        "id": "jviImhKwl6aE"
      },
      "execution_count": null,
      "outputs": []
    },
    {
      "cell_type": "code",
      "source": [
        "#function that zero pads single_peaks_X in order to obtain the same length for all the signals\n",
        "#we thought that streatch the signals would modify them too much\n",
        "def zero_pad_signals(single_peaks_X,lunghezza_max=384):\n",
        "  single_peaks_X_new=[]\n",
        "  for i in range(single_peaks_X.shape[0]):\n",
        "    difference=lunghezza_max-single_peaks_X[i].shape[0]\n",
        "    if difference%2==0:\n",
        "      new_signal=np.concatenate([np.zeros(int(difference//2)),single_peaks_X[i],np.zeros(int(difference//2))],axis=0)\n",
        "    else:\n",
        "      new_signal=np.concatenate([np.zeros(int(difference//2)),single_peaks_X[i],np.zeros(int(difference//2+1))],axis=0)\n",
        "    single_peaks_X_new.append(new_signal)\n",
        "  return np.array(single_peaks_X_new)"
      ],
      "metadata": {
        "id": "cAKB6GkEmzbq"
      },
      "execution_count": null,
      "outputs": []
    },
    {
      "cell_type": "code",
      "source": [
        "X=zero_pad_signals(X)"
      ],
      "metadata": {
        "id": "etuLwZpRnG4z"
      },
      "execution_count": null,
      "outputs": []
    },
    {
      "cell_type": "markdown",
      "source": [
        "#FFT"
      ],
      "metadata": {
        "id": "Tw6RA1rVrMVn"
      }
    },
    {
      "cell_type": "code",
      "source": [
        "def compute_fft(X_test):\n",
        "  X_fft_test=[]\n",
        "  window=384\n",
        "  for i in range(X_test.shape[0]):\n",
        "    finestra=np.squeeze(X_test[i])\n",
        "    X_fft_test.append(np.abs(np.fft.fft(finestra-np.mean(finestra))))  #MESSO ABS PERCHE' SENNO BUTTAVA VIA LA PARTE IMMAGINARIA\n",
        "  X_fft_test=np.array(X_fft_test)\n",
        "  freqs = np.linspace(0,1,window) #frequencies go from 0 to\n",
        "  X_fft_test=X_fft_test[:,:window//2]\n",
        "  return X_fft_test"
      ],
      "metadata": {
        "id": "WSud5rrurNtL"
      },
      "execution_count": null,
      "outputs": []
    },
    {
      "cell_type": "code",
      "source": [
        "X_fft=compute_fft(X)"
      ],
      "metadata": {
        "id": "FTX-gyorMijR"
      },
      "execution_count": null,
      "outputs": []
    },
    {
      "cell_type": "markdown",
      "source": [
        "#Load models"
      ],
      "metadata": {
        "id": "R5Cn0TSerN1h"
      }
    },
    {
      "cell_type": "code",
      "source": [
        "model1 = load_model('/content/drive/MyDrive/APPLED_AI_ASSIGMENT/TRAIN_ENSEMBLE/ENSAMBLE1')\n",
        "model2 = load_model('/content/drive/MyDrive/APPLED_AI_ASSIGMENT/TRAIN_ENSEMBLE/ENSAMBLE2')\n",
        "model3 = load_model('/content/drive/MyDrive/APPLED_AI_ASSIGMENT/TRAIN_ENSEMBLE/ENSAMBLE3')\n",
        "model4 = load_model('/content/drive/MyDrive/APPLED_AI_ASSIGMENT/TRAIN_ENSEMBLE/ENSAMBLE4')\n",
        "model5 = load_model('/content/drive/MyDrive/APPLED_AI_ASSIGMENT/TRAIN_ENSEMBLE/ENSAMBLE5')\n",
        "\n",
        "modelSV = load_model('/content/drive/MyDrive/APPLED_AI_ASSIGMENT/MODELLI/BID_FREQ_STATS')"
      ],
      "metadata": {
        "id": "xdTvnmqSrO-9"
      },
      "execution_count": null,
      "outputs": []
    },
    {
      "cell_type": "markdown",
      "source": [
        "#First prediction"
      ],
      "metadata": {
        "id": "ScEqJU1trP1_"
      }
    },
    {
      "cell_type": "code",
      "source": [
        "indici=np.zeros(y_post.shape[0])"
      ],
      "metadata": {
        "id": "M-yrw-7Ioilp"
      },
      "execution_count": null,
      "outputs": []
    },
    {
      "cell_type": "code",
      "source": [
        "y1=model1.predict(X)\n",
        "y2=model2.predict(X)\n",
        "y3=model3.predict(X)\n",
        "y4=model4.predict(X)\n",
        "y5=model5.predict(X)"
      ],
      "metadata": {
        "colab": {
          "base_uri": "https://localhost:8080/"
        },
        "id": "T0_260WBrRl6",
        "outputId": "30a92d5f-34b4-4570-a41d-99b2347a10e3"
      },
      "execution_count": null,
      "outputs": [
        {
          "output_type": "stream",
          "name": "stdout",
          "text": [
            "1270/1270 [==============================] - 28s 19ms/step\n",
            "1270/1270 [==============================] - 28s 20ms/step\n",
            "1270/1270 [==============================] - 26s 20ms/step\n",
            "1270/1270 [==============================] - 26s 20ms/step\n",
            "1270/1270 [==============================] - 26s 20ms/step\n"
          ]
        }
      ]
    },
    {
      "cell_type": "code",
      "source": [
        "def postprocess(y,thres=0.75):\n",
        "  y_post=[]\n",
        "  for i in range(y.shape[0]):\n",
        "    if y[i]<thres:\n",
        "      y_post.append(0)\n",
        "    else:\n",
        "      y_post.append(1)\n",
        "  return np.array(y_post)"
      ],
      "metadata": {
        "id": "8HcG5m3-NnMk"
      },
      "execution_count": null,
      "outputs": []
    },
    {
      "cell_type": "code",
      "source": [
        "y=[]\n",
        "for i in range(y1.shape[0]):\n",
        "  y.append(np.mean([y1[i],y4[i],y2[i],y3[i],y5[i]]))#\n",
        "y=np.array(y)"
      ],
      "metadata": {
        "id": "-px1-SUMN5t4"
      },
      "execution_count": null,
      "outputs": []
    },
    {
      "cell_type": "code",
      "source": [
        "y_01=postprocess(y,thres=0.1)\n",
        "y_02=postprocess(y,thres=0.2)\n",
        "y_03=postprocess(y,thres=0.3)\n",
        "y_04=postprocess(y,thres=0.4)\n",
        "y_05=postprocess(y,thres=0.5)\n",
        "y_06=postprocess(y,thres=0.6)\n",
        "y_07=postprocess(y,thres=0.7)\n",
        "y_08=postprocess(y,thres=0.8)\n",
        "y_09=postprocess(y,thres=0.9)\n",
        "y_10=postprocess(y,thres=1)\n",
        "\n",
        "FPR=[0]\n",
        "TPR=[0]\n",
        "for y_post_roc in [y_01,y_02,y_03,y_04,y_05,y_06,y_07,y_08,y_09,y_10]:\n",
        "  conf_N_baseline= 0.5  #ratio of healthy peaks in respect to total ones in the whole dataset\n",
        "  confidenza_1=[conf_N_baseline]\n",
        "  risultati_1=[0]\n",
        "  risultati_1_nome=['N'] # il primo viene scartato a priori da extract peaks e qui lo rimettiamo come predizione\n",
        "\n",
        "  # 0 -> class N\n",
        "  # 1 -> class SV\n",
        "  k=-1\n",
        "  for i in range(indici.shape[0]):\n",
        "    k+=1\n",
        "    if indici[i]==0: #modello ha predetto\n",
        "      risultati_1.append(y_post_roc[k])\n",
        "      if y_post_roc[k]==1:\n",
        "        confidenza_1.append(y[k])\n",
        "        risultati_1_nome.append('SV')\n",
        "      else:\n",
        "        confidenza_1.append(1-y[k])\n",
        "        risultati_1_nome.append('N')\n",
        "    else:\n",
        "      confidenza_1.append(conf_N_baseline)\n",
        "      risultati_1.append(0)\n",
        "      risultati_1_nome.append('N')\n",
        "      k=k-1\n",
        "\n",
        "  confidenza_1.append(conf_N_baseline)\n",
        "  risultati_1.append(0)\n",
        "  risultati_1_nome.append('N')\n",
        "  TP=0\n",
        "  TN=0\n",
        "  FP=0\n",
        "  FN=0\n",
        "  for i in range(y_binary.shape[0]):\n",
        "    if y_binary[i]==0:\n",
        "      if risultati_1[i]==0:\n",
        "        TP+=1\n",
        "      else:\n",
        "        FN+=1\n",
        "    else:\n",
        "      if risultati_1[i]==0:\n",
        "        FP+=1\n",
        "      else:\n",
        "        TN+=1\n",
        "  fpr=FP/(FP+TN)\n",
        "  tpr=TP/(TP+FN)\n",
        "  TPR.append(tpr)\n",
        "  FPR.append(fpr)"
      ],
      "metadata": {
        "id": "ZCzDzzLFebip"
      },
      "execution_count": null,
      "outputs": []
    },
    {
      "cell_type": "code",
      "source": [
        "plt.plot(FPR,TPR)\n",
        "plt.plot([0, 1], [0, 1], color='navy', lw=2, linestyle='--', label='Random Guess')\n",
        "plt.xlabel('False Positive Rate (FPR)')\n",
        "plt.ylabel('True Positive Rate (TPR)')\n",
        "plt.title('Receiver Operating Characteristic (ROC) Curve')\n",
        "plt.legend(loc='lower right')\n",
        "plt.show()"
      ],
      "metadata": {
        "colab": {
          "base_uri": "https://localhost:8080/",
          "height": 472
        },
        "id": "3282lzETg2Xd",
        "outputId": "0cc7c6ca-fc9e-4535-9439-cf682fd7f804"
      },
      "execution_count": null,
      "outputs": [
        {
          "output_type": "display_data",
          "data": {
            "text/plain": [
              "<Figure size 640x480 with 1 Axes>"
            ],
            "image/png": "[encoded data removed]"
          },
          "metadata": {}
        }
      ]
    },
    {
      "cell_type": "code",
      "source": [
        "y_post=postprocess(y)"
      ],
      "metadata": {
        "id": "AtmNdSn2N7zv"
      },
      "execution_count": null,
      "outputs": []
    },
    {
      "cell_type": "code",
      "source": [
        "conf_N_baseline= 0.5  #ratio of healthy peaks in respect to total ones in the whole dataset\n",
        "confidenza_1=[]\n",
        "risultati_1=[]\n",
        "risultati_1_nome=[] # il primo viene scartato a priori da extract peaks e qui lo rimettiamo come predizione\n",
        "\n",
        "# 0 -> class N\n",
        "# 1 -> class SV\n",
        "k=-1\n",
        "for i in range(indici.shape[0]):\n",
        "  k+=1\n",
        "  if indici[i]==0: #modello ha predetto\n",
        "    risultati_1.append(y_post[k])\n",
        "    if y_post[k]==1:\n",
        "      confidenza_1.append(y[k])\n",
        "      risultati_1_nome.append('SV')\n",
        "    else:\n",
        "      confidenza_1.append((1-y[k])*(2/3)+(1/3))\n",
        "      risultati_1_nome.append('N')\n",
        "  else:\n",
        "    confidenza_1.append(conf_N_baseline)\n",
        "    risultati_1.append(0)\n",
        "    risultati_1_nome.append('N')\n",
        "    k=k-1\n"
      ],
      "metadata": {
        "id": "Ochcwa4AOAUO"
      },
      "execution_count": null,
      "outputs": []
    },
    {
      "cell_type": "code",
      "source": [
        "paz_result=[]\n",
        "for i in range(len(y_binary)):\n",
        "  if y_binary[i]=='N':\n",
        "    paz_result.append(0)\n",
        "  else:\n",
        "    paz_result.append(1)\n",
        "paz_result=np.array(paz_result)"
      ],
      "metadata": {
        "id": "ykcx5LA3Tqqb"
      },
      "execution_count": null,
      "outputs": []
    },
    {
      "cell_type": "code",
      "source": [
        "from sklearn.metrics import ConfusionMatrixDisplay, classification_report\n",
        "ConfusionMatrixDisplay.from_predictions(y_binary,risultati_1)\n",
        "\n",
        "print(classification_report(y_binary,risultati_1))"
      ],
      "metadata": {
        "colab": {
          "base_uri": "https://localhost:8080/",
          "height": 605
        },
        "id": "TQvuAn9YeT5m",
        "outputId": "152392f3-8758-4c77-f3db-ccaf9a5341a1"
      },
      "execution_count": null,
      "outputs": [
        {
          "output_type": "stream",
          "name": "stdout",
          "text": [
            "              precision    recall  f1-score   support\n",
            "\n",
            "         0.0       0.99      0.95      0.97     38511\n",
            "         1.0       0.50      0.91      0.65      2103\n",
            "\n",
            "    accuracy                           0.95     40614\n",
            "   macro avg       0.75      0.93      0.81     40614\n",
            "weighted avg       0.97      0.95      0.96     40614\n",
            "\n"
          ]
        },
        {
          "output_type": "display_data",
          "data": {
            "text/plain": [
              "<Figure size 640x480 with 2 Axes>"
            ],
            "image/png": "[encoded data removed]"
          },
          "metadata": {}
        }
      ]
    },
    {
      "cell_type": "markdown",
      "source": [
        "#Second prediction"
      ],
      "metadata": {
        "id": "fRrmEHGlrRvT"
      }
    },
    {
      "cell_type": "code",
      "source": [
        "conf_N_baseline= 0.33 #ratio of healthy peaks in respect to total ones in the whole dataset\n",
        "confidenza_2=confidenza_1.copy\n",
        "risultati_2=(risultati_1).copy\n",
        "risultati_2_nome=(risultati_1_nome).copy"
      ],
      "metadata": {
        "id": "zNETM5ATwCFN"
      },
      "execution_count": null,
      "outputs": []
    },
    {
      "cell_type": "code",
      "source": [
        "#[1,0]->S\n",
        "#[0,1]->V\n",
        "k=-1\n",
        "for i in range(indici.shape[0]):\n",
        "  k+=1\n",
        "  if indici[i]==0: #modello1 ha predetto\n",
        "    if y_post[i]==1:\n",
        "      primo=tf.convert_to_tensor(np.reshape(X[k],(1,384)),dtype=tf.float32)\n",
        "      secondo=tf.convert_to_tensor(np.reshape(X_fft[k],(1,192)),dtype=tf.float32)\n",
        "      terzo=tf.convert_to_tensor(np.reshape(stats[k],(1,10)),dtype=tf.float32)\n",
        "      y2=modelSV([primo,secondo,terzo])\n",
        "      y2_post=np.argmax(y2,axis=-1)\n",
        "      if y2_post==0:\n",
        "        confidenza_2[i]=np.array(y2)[0][0]*confidenza_1[i]\n",
        "        risultati_2_nome[i]='S'\n",
        "        risultati_2[i]=1\n",
        "      else:\n",
        "        confidenza_2[i]=np.array(y2)[0][1]*confidenza_1[i]\n",
        "        risultati_2_nome[i]='V'\n",
        "        risultati_2[i]=2\n",
        "  else:\n",
        "    confidenza_2[i]=conf_N_baseline\n",
        "    k=k-1"
      ],
      "metadata": {
        "id": "Hsql7nMMUmFa"
      },
      "execution_count": null,
      "outputs": []
    },
    {
      "cell_type": "code",
      "source": [
        "# prima lettera VERO, seconda lettera PREDETTO\n",
        "NN=0\n",
        "NS=0\n",
        "NV=0\n",
        "SN=0\n",
        "SS=0\n",
        "SV=0\n",
        "VN=0\n",
        "VS=0\n",
        "VV=0\n",
        "SOGLIA=True\n",
        "soglia=1000\n",
        "contatore=0\n",
        "for i in range(y_tri.shape[0]):\n",
        "  vero=y_tri[i]\n",
        "  if int(vero)==0:\n",
        "    contatore +=1\n",
        "    if SOGLIA:\n",
        "      if contatore<soglia:\n",
        "        predetto=risultati_2_nome[i]\n",
        "        if predetto=='N':\n",
        "          NN+=1\n",
        "        elif predetto=='S':\n",
        "          NS+=1\n",
        "        else:\n",
        "          NV+=1\n",
        "    else:\n",
        "      predetto=risultati_2_nome[i]\n",
        "      if predetto=='N':\n",
        "        NN+=1\n",
        "      elif predetto=='S':\n",
        "        NS+=1\n",
        "      else:\n",
        "        NV+=1\n",
        "  elif int(vero)==1:\n",
        "    predetto=risultati_2_nome[i]\n",
        "    if predetto=='N':\n",
        "      SN+=1\n",
        "    elif predetto=='S':\n",
        "      SS+=1\n",
        "    else:\n",
        "      SV+=1\n",
        "  else:\n",
        "    predetto=risultati_2_nome[i]\n",
        "    if predetto=='N':\n",
        "      VN+=1\n",
        "    elif predetto=='S':\n",
        "      VS+=1\n",
        "    else:\n",
        "      VV+=1\n",
        "confusion_matrix=[[NN,NS,NV],[SN,SS,SV],[VN,VS,VV]]\n",
        "recall_N=NN/(NN+NS+NV)\n",
        "precision_N=(NN)/(NN+SN+VN)\n",
        "recall_S=(SS)/(SS+SN+SV)\n",
        "precision_S=(SS)/(SS+NS+VS)\n",
        "recall_V=(VV)/(VV+VS+VN)\n",
        "precision_V=(VV)/(VV+SV+NV)\n",
        "recall_per_class=[recall_N,recall_S,recall_V]\n",
        "precision_per_class=[precision_N,precision_S,precision_V]\n",
        "accuracy=(NN+SS+VV)/(NN+NS+NV+SS+SN+SV+VV+VN+VS)\n",
        "\n",
        "print('Accuracy:',accuracy)\n",
        "print()\n",
        "print('Recall N:',recall_N)\n",
        "print('Recall S:',recall_S)\n",
        "print('Recall V:',recall_V)\n",
        "print()\n",
        "print('Precision N:',precision_N)\n",
        "print('Precision S:',precision_S)\n",
        "print('Precision V:',precision_V)\n",
        "\n",
        "import matplotlib.pyplot as plt\n",
        "import seaborn as sns\n",
        "plt.figure(figsize=(8, 6))\n",
        "sns.heatmap(confusion_matrix, annot=True, fmt=\"d\", cmap=\"Blues\")\n",
        "plt.title('Confusion Matrix')\n",
        "plt.xlabel('Predicted')\n",
        "plt.ylabel('Actual')\n",
        "plt.show()"
      ],
      "metadata": {
        "id": "Ffoi3ogmPmxS",
        "colab": {
          "base_uri": "https://localhost:8080/",
          "height": 720
        },
        "outputId": "06cdad38-0f7b-4fb4-86f9-2b96fe961082"
      },
      "execution_count": null,
      "outputs": [
        {
          "output_type": "stream",
          "name": "stdout",
          "text": [
            "Accuracy: 0.7211476466795615\n",
            "\n",
            "Recall N: 0.994994994994995\n",
            "Recall S: 0.698019801980198\n",
            "Recall V: 0.44556677890011226\n",
            "\n",
            "Precision N: 0.8331936295054484\n",
            "Precision S: 0.6828087167070218\n",
            "Precision V: 0.5925373134328358\n"
          ]
        },
        {
          "output_type": "display_data",
          "data": {
            "text/plain": [
              "<Figure size 800x600 with 2 Axes>"
            ],
            "image/png": "[encoded data removed]"
          },
          "metadata": {}
        }
      ]
    },
    {
      "cell_type": "code",
      "source": [
        "np.mean(np.array(confidenza_2))"
      ],
      "metadata": {
        "colab": {
          "base_uri": "https://localhost:8080/"
        },
        "id": "K63jYOM4tWOD",
        "outputId": "bca409fa-83bf-43e8-8fb9-96b449d70355"
      },
      "execution_count": null,
      "outputs": [
        {
          "output_type": "execute_result",
          "data": {
            "text/plain": [
              "0.8536964263029541"
            ]
          },
          "metadata": {},
          "execution_count": 99
        }
      ]
    },
    {
      "cell_type": "code",
      "source": [
        "# prima lettera VERO, seconda lettera PREDETTO\n",
        "NN=0\n",
        "NS=0\n",
        "NV=0\n",
        "SN=0\n",
        "SS=0\n",
        "SV=0\n",
        "VN=0\n",
        "VS=0\n",
        "VV=0\n",
        "SOGLIA=False\n",
        "soglia=2000\n",
        "contatore=0\n",
        "for i in range(y_tri.shape[0]):\n",
        "  vero=y_tri[i]\n",
        "  if int(vero)==0:\n",
        "    contatore +=1\n",
        "    if SOGLIA:\n",
        "      if contatore<soglia:\n",
        "        predetto=risultati_2_nome[i]\n",
        "        if predetto=='N':\n",
        "          NN+=1\n",
        "        elif predetto=='S':\n",
        "          NS+=1\n",
        "        else:\n",
        "          NV+=1\n",
        "    else:\n",
        "      predetto=risultati_2_nome[i]\n",
        "      if predetto=='N':\n",
        "        NN+=1\n",
        "      elif predetto=='S':\n",
        "        NS+=1\n",
        "      else:\n",
        "        NV+=1\n",
        "  elif int(vero)==1:\n",
        "    predetto=risultati_2_nome[i]\n",
        "    if predetto=='N':\n",
        "      SN+=1\n",
        "    elif predetto=='S':\n",
        "      SS+=1\n",
        "    else:\n",
        "      SV+=1\n",
        "  else:\n",
        "    predetto=risultati_2_nome[i]\n",
        "    if predetto=='N':\n",
        "      VN+=1\n",
        "    elif predetto=='S':\n",
        "      VS+=1\n",
        "    else:\n",
        "      VV+=1\n",
        "confusion_matrix=[[NN,NS,NV],[SN,SS,SV],[VN,VS,VV]]\n",
        "recall_N=NN/(NN+NS+NV)\n",
        "precision_N=(NN)/(NN+SN+VN)\n",
        "recall_S=(SS)/(SS+SN+SV)\n",
        "precision_S=(SS)/(SS+NS+VS)\n",
        "recall_V=(VV)/(VV+VS+VN)\n",
        "precision_V=(VV)/(VV+SV+NV)\n",
        "recall_per_class=[recall_N,recall_S,recall_V]\n",
        "precision_per_class=[precision_N,precision_S,precision_V]\n",
        "accuracy=(NN+SS+VV)/(NN+NS+NV+SS+SN+SV+VV+VN+VS)\n",
        "\n",
        "print('Accuracy:',accuracy)\n",
        "print()\n",
        "print('Recall N:',recall_N)\n",
        "print('Recall S:',recall_S)\n",
        "print('Recall V:',recall_V)\n",
        "print()\n",
        "print('Precision N:',precision_N)\n",
        "print('Precision S:',precision_S)\n",
        "print('Precision V:',precision_V)\n",
        "\n",
        "import matplotlib.pyplot as plt\n",
        "import seaborn as sns\n",
        "plt.figure(figsize=(8, 6))\n",
        "sns.heatmap(confusion_matrix, annot=True, fmt=\"d\", cmap=\"Blues\")\n",
        "plt.title('Confusion Matrix')\n",
        "plt.xlabel('Predicted')\n",
        "plt.ylabel('Actual')\n",
        "plt.show()"
      ],
      "metadata": {
        "colab": {
          "base_uri": "https://localhost:8080/",
          "height": 720
        },
        "id": "FmOdsO31rF3x",
        "outputId": "e6698703-6d77-40f7-8661-b200a47748a0"
      },
      "execution_count": null,
      "outputs": [
        {
          "output_type": "stream",
          "name": "stdout",
          "text": [
            "Accuracy: 0.932313980400847\n",
            "\n",
            "Recall N: 0.9509490794837838\n",
            "Recall S: 0.698019801980198\n",
            "Recall V: 0.44556677890011226\n",
            "\n",
            "Precision N: 0.9945954754080552\n",
            "Precision S: 0.33399131464666404\n",
            "Precision V: 0.31507936507936507\n"
          ]
        },
        {
          "output_type": "display_data",
          "data": {
            "text/plain": [
              "<Figure size 800x600 with 2 Axes>"
            ],
            "image/png": "[encoded data removed]"
          },
          "metadata": {}
        }
      ]
    },
    {
      "cell_type": "code",
      "source": [
        "for i in range(-200,-100):\n",
        "  campione=i\n",
        "  predizione=risultati_1_nome[campione]\n",
        "  conf=confidenza_1[campione]\n",
        "  if predizione=='N':\n",
        "    print(predizione,'   ',conf)\n",
        "    print()"
      ],
      "metadata": {
        "colab": {
          "base_uri": "https://localhost:8080/"
        },
        "id": "vTHGaEMMbYOo",
        "outputId": "7c920cd3-6c5b-4499-f366-d8733bd5d857"
      },
      "execution_count": null,
      "outputs": [
        {
          "output_type": "stream",
          "name": "stdout",
          "text": [
            "N     0.7828613519668579\n",
            "\n",
            "N     0.7023283243179321\n",
            "\n",
            "N     0.6132980187733967\n",
            "\n",
            "N     0.5624103943506876\n",
            "\n",
            "N     0.7512882947921753\n",
            "\n",
            "N     0.5260584751764933\n",
            "\n",
            "N     0.6268023252487183\n",
            "\n",
            "N     0.5927791198094685\n",
            "\n",
            "N     0.6054386297861735\n",
            "\n",
            "N     0.5515737930933634\n",
            "\n",
            "N     0.5703263680140177\n",
            "\n",
            "N     0.7009964386622111\n",
            "\n",
            "N     0.5516101121902466\n",
            "\n",
            "N     0.5795907974243164\n",
            "\n",
            "N     0.5734837452570597\n",
            "\n",
            "N     0.5121639966964722\n",
            "\n",
            "N     0.5017652908960978\n",
            "\n",
            "N     0.6948472062746683\n",
            "\n"
          ]
        }
      ]
    },
    {
      "cell_type": "code",
      "source": [
        "for i in range(100,200):\n",
        "  campione=i\n",
        "  predizione=risultati_2_nome[campione]\n",
        "  conf=confidenza_2[campione]\n",
        "  print(predizione,'   ',conf)\n",
        "  print()"
      ],
      "metadata": {
        "colab": {
          "base_uri": "https://localhost:8080/"
        },
        "id": "6yiES0K4vfHW",
        "outputId": "51ada651-b112-4e9a-9d5b-3870b7aa8e23"
      },
      "execution_count": null,
      "outputs": [
        {
          "output_type": "stream",
          "name": "stdout",
          "text": [
            "N     0.9845387128492196\n",
            "\n",
            "N     0.9845317813257375\n",
            "\n",
            "N     0.9845314448078473\n",
            "\n",
            "N     0.9821798739333947\n",
            "\n",
            "N     0.9844242272277672\n",
            "\n",
            "N     0.983183426161607\n",
            "\n",
            "N     0.9826210339864094\n",
            "\n",
            "N     0.9828362402816613\n",
            "\n",
            "N     0.9834803231060505\n",
            "\n",
            "N     0.9837104951341946\n",
            "\n",
            "N     0.9849782983462014\n",
            "\n",
            "N     0.9803482219576836\n",
            "\n",
            "N     0.9810682361324627\n",
            "\n",
            "N     0.9803534311552842\n",
            "\n",
            "N     0.9814050172766049\n",
            "\n",
            "N     0.9782309134801228\n",
            "\n",
            "N     0.9817848640183606\n",
            "\n",
            "N     0.9833274284998574\n",
            "\n",
            "N     0.9873397598663964\n",
            "\n",
            "N     0.9872548393905163\n",
            "\n",
            "N     0.9820472871263821\n",
            "\n",
            "N     0.9812533060709634\n",
            "\n",
            "N     0.9883508806427319\n",
            "\n",
            "N     0.9870806969702244\n",
            "\n",
            "N     0.9892272589107354\n",
            "\n",
            "N     0.9886403791606426\n",
            "\n",
            "N     0.9907171117762723\n",
            "\n",
            "N     0.9919811567912498\n",
            "\n",
            "N     0.9926927306999762\n",
            "\n",
            "N     0.9912529786427815\n",
            "\n",
            "N     0.9931175392121077\n",
            "\n",
            "N     0.9923009239137173\n",
            "\n",
            "N     0.992775029192368\n",
            "\n",
            "N     0.99294892201821\n",
            "\n",
            "N     0.9938747299214203\n",
            "\n",
            "N     0.992865301668644\n",
            "\n",
            "N     0.9953698298583427\n",
            "\n",
            "N     0.9945163136969009\n",
            "\n",
            "N     0.9953683447092772\n",
            "\n",
            "N     0.9955104232455292\n",
            "\n",
            "N     0.9956911609818537\n",
            "\n",
            "N     0.9947180406500895\n",
            "\n",
            "N     0.9947797221442063\n",
            "\n",
            "N     0.9945784937590361\n",
            "\n",
            "N     0.9935043286532164\n",
            "\n",
            "N     0.9938531381388505\n",
            "\n",
            "N     0.992313882956902\n",
            "\n",
            "N     0.9823403283953667\n",
            "\n",
            "N     0.9812533184885979\n",
            "\n",
            "N     0.9803822400669255\n",
            "\n",
            "N     0.9818302653729916\n",
            "\n",
            "N     0.9840623736381531\n",
            "\n",
            "N     0.9816101118922234\n",
            "\n",
            "N     0.9828365718324978\n",
            "\n",
            "N     0.9841612577438354\n",
            "\n",
            "N     0.9842008414367833\n",
            "\n",
            "N     0.984524036447207\n",
            "\n",
            "N     0.9821799521644909\n",
            "\n",
            "N     0.9844242272277672\n",
            "\n",
            "N     0.9842087402939796\n",
            "\n",
            "N     0.9850682802498341\n",
            "\n",
            "N     0.9823095525304475\n",
            "\n",
            "N     0.9848431224624314\n",
            "\n",
            "N     0.9867384011546769\n",
            "\n",
            "N     0.9782534465193748\n",
            "\n",
            "N     0.986329769094785\n",
            "\n",
            "N     0.9804870809117952\n",
            "\n",
            "N     0.9832600528995195\n",
            "\n",
            "N     0.9862815948824086\n",
            "\n",
            "N     0.9789594287673631\n",
            "\n",
            "N     0.9830744440356889\n",
            "\n",
            "N     0.9820150658488274\n",
            "\n",
            "N     0.9823299447695413\n",
            "\n",
            "N     0.9797739014029503\n",
            "\n",
            "N     0.9859267796079316\n",
            "\n",
            "N     0.9732617686192193\n",
            "\n",
            "N     0.9851134233176708\n",
            "\n",
            "N     0.9950081265221038\n",
            "\n",
            "N     0.9945862100770075\n",
            "\n",
            "N     0.8695493737856546\n",
            "\n",
            "N     0.8892153898874917\n",
            "\n",
            "N     0.9399847288926442\n",
            "\n",
            "N     0.981286992629369\n",
            "\n",
            "N     0.9875437058508396\n",
            "\n",
            "N     0.8841440478960672\n",
            "\n",
            "N     0.9820049641033013\n",
            "\n",
            "N     0.9864334451655545\n",
            "\n",
            "N     0.9764319807291031\n",
            "\n",
            "N     0.9830136522650719\n",
            "\n",
            "N     0.9832960665225983\n",
            "\n",
            "N     0.9848621251682439\n",
            "\n",
            "N     0.9834168454011281\n",
            "\n",
            "N     0.9829713627696037\n",
            "\n",
            "N     0.9835335003832975\n",
            "\n",
            "N     0.9816320066650708\n",
            "\n",
            "N     0.9787347267071405\n",
            "\n",
            "N     0.9805108333627381\n",
            "\n",
            "N     0.9848566129803658\n",
            "\n",
            "N     0.9773606111605961\n",
            "\n",
            "N     0.9939983114600182\n",
            "\n"
          ]
        }
      ]
    }
  ]
}