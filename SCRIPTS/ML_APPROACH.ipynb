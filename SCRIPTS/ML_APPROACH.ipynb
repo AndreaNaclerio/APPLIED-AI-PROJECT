{
  "nbformat": 4,
  "nbformat_minor": 0,
  "metadata": {
    "colab": {
      "provenance": [],
      "collapsed_sections": [
        "hGjptfUSCHIp",
        "ysv8sqLxCK_V",
        "ULv0X2ZAQEOs",
        "lQsJ4T6zOGt3"
      ],
      "toc_visible": true
    },
    "kernelspec": {
      "name": "python3",
      "display_name": "Python 3"
    },
    "language_info": {
      "name": "python"
    }
  },
  "cells": [
    {
      "cell_type": "markdown",
      "source": [
        "#Connect to drive"
      ],
      "metadata": {
        "id": "hGjptfUSCHIp"
      }
    },
    {
      "cell_type": "code",
      "source": [
        "from google.colab import drive\n",
        "drive.mount('/content/drive')"
      ],
      "metadata": {
        "colab": {
          "base_uri": "https://localhost:8080/"
        },
        "id": "dZmUaeno7y14",
        "outputId": "b24d43b1-d047-4988-a164-271189b44f0e"
      },
      "execution_count": null,
      "outputs": [
        {
          "output_type": "stream",
          "name": "stdout",
          "text": [
            "Mounted at /content/drive\n"
          ]
        }
      ]
    },
    {
      "cell_type": "markdown",
      "source": [
        "#Import libraries"
      ],
      "metadata": {
        "id": "ysv8sqLxCK_V"
      }
    },
    {
      "cell_type": "code",
      "source": [
        "seed=42\n",
        "import numpy as np\n",
        "import matplotlib\n",
        "import matplotlib.pyplot as plt\n",
        "import scipy.io\n",
        "import numpy as np\n",
        "import os\n",
        "import warnings\n",
        "warnings.filterwarnings(\"ignore\")\n",
        "import tensorflow as tf\n",
        "import tensorflow.keras as tfk\n",
        "import tensorflow.keras.layers as tfkl\n",
        "import seaborn as sns"
      ],
      "metadata": {
        "id": "xjCg0DoZ5xrJ"
      },
      "execution_count": null,
      "outputs": []
    },
    {
      "cell_type": "markdown",
      "source": [
        "#Universal variables"
      ],
      "metadata": {
        "id": "ULv0X2ZAQEOs"
      }
    },
    {
      "cell_type": "code",
      "source": [
        "numero_cicli=2\n",
        "fs=128\n",
        "bpm_min=40\n",
        "lunghezza_max=int(60*numero_cicli*fs/bpm_min)\n",
        "input_shape = [lunghezza_max,1]\n",
        "batch_size = 256\n",
        "epochs = 50\n",
        "LR = 0.0005\n",
        "patience_ES = 15\n",
        "patience_LR = 15\n",
        "factor_LR = 0.5"
      ],
      "metadata": {
        "id": "yMBBVyuGILAP"
      },
      "execution_count": null,
      "outputs": []
    },
    {
      "cell_type": "markdown",
      "source": [
        "#Load data"
      ],
      "metadata": {
        "id": "hkcUNr_aCRKT"
      }
    },
    {
      "cell_type": "markdown",
      "source": [
        "### IMPORT TRAINING STATS"
      ],
      "metadata": {
        "id": "Kq3gBUZP0r-q"
      }
    },
    {
      "cell_type": "code",
      "source": [
        "train_diff_amp_S = np.load('/content/drive/MyDrive/APPLED_AI_ASSIGMENT/SIGNALS_STATISTIC/diff_amp_train_S.npy')\n",
        "train_diff_amp_V = np.load('/content/drive/MyDrive/APPLED_AI_ASSIGMENT/SIGNALS_STATISTIC/diff_amp_train_V.npy')\n",
        "\n",
        "train_diff_p_s_S = np.load('/content/drive/MyDrive/APPLED_AI_ASSIGMENT/SIGNALS_STATISTIC/diff_p_s_train_S.npy')\n",
        "train_diff_p_s_V = np.load('/content/drive/MyDrive/APPLED_AI_ASSIGMENT/SIGNALS_STATISTIC/diff_p_s_train_V.npy')\n",
        "\n",
        "train_entr_S = np.load('/content/drive/MyDrive/APPLED_AI_ASSIGMENT/SIGNALS_STATISTIC/entr_train_S.npy')\n",
        "train_entr_V = np.load('/content/drive/MyDrive/APPLED_AI_ASSIGMENT/SIGNALS_STATISTIC/entr_train_V.npy')\n",
        "\n",
        "train_kurt_S = np.load('/content/drive/MyDrive/APPLED_AI_ASSIGMENT/SIGNALS_STATISTIC/kurt_train_S.npy')\n",
        "train_kurt_V = np.load('/content/drive/MyDrive/APPLED_AI_ASSIGMENT/SIGNALS_STATISTIC/kurt_train_V.npy')\n",
        "\n",
        "train_mean_S = np.load('/content/drive/MyDrive/APPLED_AI_ASSIGMENT/SIGNALS_STATISTIC/media_train_S.npy')\n",
        "train_mean_V = np.load('/content/drive/MyDrive/APPLED_AI_ASSIGMENT/SIGNALS_STATISTIC/media_train_V.npy')\n",
        "\n",
        "train_rms_S = np.load('/content/drive/MyDrive/APPLED_AI_ASSIGMENT/SIGNALS_STATISTIC/rms_train_S.npy')\n",
        "train_rms_V = np.load('/content/drive/MyDrive/APPLED_AI_ASSIGMENT/SIGNALS_STATISTIC/rms_train_V.npy')\n",
        "\n",
        "train_skew_S = np.load('/content/drive/MyDrive/APPLED_AI_ASSIGMENT/SIGNALS_STATISTIC/skew_train_S.npy')\n",
        "train_skew_V = np.load('/content/drive/MyDrive/APPLED_AI_ASSIGMENT/SIGNALS_STATISTIC/skew_train_V.npy')\n",
        "\n",
        "train_std_S = np.load('/content/drive/MyDrive/APPLED_AI_ASSIGMENT/SIGNALS_STATISTIC/stand_dev_train_S.npy')\n",
        "train_std_V = np.load('/content/drive/MyDrive/APPLED_AI_ASSIGMENT/SIGNALS_STATISTIC/stand_dev_train_V.npy')\n"
      ],
      "metadata": {
        "id": "X38U_L5DyHdx"
      },
      "execution_count": null,
      "outputs": []
    },
    {
      "cell_type": "markdown",
      "source": [
        "### IMPORT VALIDATION STATS"
      ],
      "metadata": {
        "id": "0D7EQghV0wYZ"
      }
    },
    {
      "cell_type": "code",
      "source": [
        "val_diff_amp_S = np.load('/content/drive/MyDrive/APPLED_AI_ASSIGMENT/SIGNALS_STATISTIC/diff_amp_val_S.npy')\n",
        "val_diff_amp_V = np.load('/content/drive/MyDrive/APPLED_AI_ASSIGMENT/SIGNALS_STATISTIC/diff_amp_val_V.npy')\n",
        "val_diff_p_s_S = np.load('/content/drive/MyDrive/APPLED_AI_ASSIGMENT/SIGNALS_STATISTIC/diff_p_s_val_S.npy')\n",
        "val_diff_p_s_V = np.load('/content/drive/MyDrive/APPLED_AI_ASSIGMENT/SIGNALS_STATISTIC/diff_p_s_val_V.npy')\n",
        "val_entr_S = np.load('/content/drive/MyDrive/APPLED_AI_ASSIGMENT/SIGNALS_STATISTIC/entr_val_S.npy')\n",
        "val_entr_V = np.load('/content/drive/MyDrive/APPLED_AI_ASSIGMENT/SIGNALS_STATISTIC/entr_val_V.npy')\n",
        "val_kurt_S = np.load('/content/drive/MyDrive/APPLED_AI_ASSIGMENT/SIGNALS_STATISTIC/kurt_val_S.npy')\n",
        "val_kurt_V = np.load('/content/drive/MyDrive/APPLED_AI_ASSIGMENT/SIGNALS_STATISTIC/kurt_val_V.npy')\n",
        "val_mean_S = np.load('/content/drive/MyDrive/APPLED_AI_ASSIGMENT/SIGNALS_STATISTIC/media_val_S.npy')\n",
        "val_mean_V = np.load('/content/drive/MyDrive/APPLED_AI_ASSIGMENT/SIGNALS_STATISTIC/media_val_V.npy')\n",
        "val_rms_S = np.load('/content/drive/MyDrive/APPLED_AI_ASSIGMENT/SIGNALS_STATISTIC/rms_val_S.npy')\n",
        "val_rms_V = np.load('/content/drive/MyDrive/APPLED_AI_ASSIGMENT/SIGNALS_STATISTIC/rms_val_V.npy')\n",
        "val_skew_S = np.load('/content/drive/MyDrive/APPLED_AI_ASSIGMENT/SIGNALS_STATISTIC/skew_val_S.npy')\n",
        "val_skew_V = np.load('/content/drive/MyDrive/APPLED_AI_ASSIGMENT/SIGNALS_STATISTIC/skew_val_V.npy')\n",
        "val_std_S = np.load('/content/drive/MyDrive/APPLED_AI_ASSIGMENT/SIGNALS_STATISTIC/stand_dev_val_S.npy')\n",
        "val_std_V = np.load('/content/drive/MyDrive/APPLED_AI_ASSIGMENT/SIGNALS_STATISTIC/stand_dev_val_V.npy')"
      ],
      "metadata": {
        "id": "Rs0Zvz8m00Sj"
      },
      "execution_count": null,
      "outputs": []
    },
    {
      "cell_type": "markdown",
      "source": [
        "### IMPORT TEST STATS"
      ],
      "metadata": {
        "id": "bKk1rc6Hole6"
      }
    },
    {
      "cell_type": "code",
      "source": [
        "test_diff_amp_S = np.load('/content/drive/MyDrive/APPLED_AI_ASSIGMENT/SIGNALS_STATISTIC/diff_amp_test_S.npy')\n",
        "test_diff_amp_V = np.load('/content/drive/MyDrive/APPLED_AI_ASSIGMENT/SIGNALS_STATISTIC/diff_amp_test_V.npy')\n",
        "\n",
        "test_diff_p_s_S = np.load('/content/drive/MyDrive/APPLED_AI_ASSIGMENT/SIGNALS_STATISTIC/diff_p_s_test_S.npy')\n",
        "test_diff_p_s_V = np.load('/content/drive/MyDrive/APPLED_AI_ASSIGMENT/SIGNALS_STATISTIC/diff_p_s_test_V.npy')\n",
        "\n",
        "test_entr_S = np.load('/content/drive/MyDrive/APPLED_AI_ASSIGMENT/SIGNALS_STATISTIC/entr_test_S.npy')\n",
        "test_entr_V = np.load('/content/drive/MyDrive/APPLED_AI_ASSIGMENT/SIGNALS_STATISTIC/entr_test_V.npy')\n",
        "\n",
        "test_kurt_S = np.load('/content/drive/MyDrive/APPLED_AI_ASSIGMENT/SIGNALS_STATISTIC/kurt_test_S.npy')\n",
        "test_kurt_V = np.load('/content/drive/MyDrive/APPLED_AI_ASSIGMENT/SIGNALS_STATISTIC/kurt_test_V.npy')\n",
        "\n",
        "test_mean_S = np.load('/content/drive/MyDrive/APPLED_AI_ASSIGMENT/SIGNALS_STATISTIC/media_test_S.npy')\n",
        "test_mean_V = np.load('/content/drive/MyDrive/APPLED_AI_ASSIGMENT/SIGNALS_STATISTIC/media_test_V.npy')\n",
        "\n",
        "test_rms_S = np.load('/content/drive/MyDrive/APPLED_AI_ASSIGMENT/SIGNALS_STATISTIC/rms_test_S.npy')\n",
        "test_rms_V = np.load('/content/drive/MyDrive/APPLED_AI_ASSIGMENT/SIGNALS_STATISTIC/rms_test_V.npy')\n",
        "\n",
        "test_skew_S = np.load('/content/drive/MyDrive/APPLED_AI_ASSIGMENT/SIGNALS_STATISTIC/skew_test_S.npy')\n",
        "test_skew_V = np.load('/content/drive/MyDrive/APPLED_AI_ASSIGMENT/SIGNALS_STATISTIC/skew_test_V.npy')\n",
        "\n",
        "test_std_S = np.load('/content/drive/MyDrive/APPLED_AI_ASSIGMENT/SIGNALS_STATISTIC/stand_dev_test_S.npy')\n",
        "test_std_V = np.load('/content/drive/MyDrive/APPLED_AI_ASSIGMENT/SIGNALS_STATISTIC/stand_dev_test_V.npy')\n"
      ],
      "metadata": {
        "id": "ZCDEKsfSole6"
      },
      "execution_count": null,
      "outputs": []
    },
    {
      "cell_type": "markdown",
      "source": [
        "##TEST-VALIDATION"
      ],
      "metadata": {
        "id": "xtitj41UopHw"
      }
    },
    {
      "cell_type": "code",
      "source": [
        "max_S = np.max(train_diff_p_s_S)\n",
        "min_S = np.min(train_diff_p_s_S)\n",
        "\n",
        "max_V = np.max(val_diff_p_s_V)\n",
        "min_V = np.min(val_diff_p_s_V)\n",
        "\n",
        "max = np.max([max_S,max_V])\n",
        "min = np.min([min_S,min_V])"
      ],
      "metadata": {
        "id": "MrAOZoY0zQxZ"
      },
      "execution_count": null,
      "outputs": []
    },
    {
      "cell_type": "code",
      "source": [
        "print(max)\n",
        "print(min)"
      ],
      "metadata": {
        "colab": {
          "base_uri": "https://localhost:8080/"
        },
        "id": "-1V9qpxV7Pwz",
        "outputId": "77de792d-2a13-4789-e79d-25fef835cbe3"
      },
      "execution_count": null,
      "outputs": [
        {
          "output_type": "stream",
          "name": "stdout",
          "text": [
            "225\n",
            "35\n"
          ]
        }
      ]
    },
    {
      "cell_type": "code",
      "source": [
        "def merge_stats(N,a,b,c,d,e,f,g,h):\n",
        "  final = [0]*N\n",
        "  temp = []\n",
        "  for i in range(N): #for the different signal\n",
        "    temp.append([a[i][0],a[i][1],(b[i][0]-min)/(max-min),(b[i][1]-min)/(max-min),c[i],d[i],e[i],f[i],g[i],h[i]])\n",
        "    final[i] = temp\n",
        "    temp = []\n",
        "  return np.array(final)"
      ],
      "metadata": {
        "id": "MmiUCgRH9NFX"
      },
      "execution_count": null,
      "outputs": []
    },
    {
      "cell_type": "code",
      "source": [
        "train_stats_S = np.squeeze(merge_stats(train_diff_p_s_S.shape[0], train_diff_amp_S, train_diff_p_s_S, train_entr_S, train_kurt_S, train_mean_S, train_rms_S, train_skew_S, train_std_S))\n",
        "train_stats_V = np.squeeze(merge_stats(train_diff_p_s_V.shape[0], train_diff_amp_V, train_diff_p_s_V, train_entr_V, train_kurt_V, train_mean_V, train_rms_V, train_skew_V, train_std_V))\n",
        "\n",
        "val_stats_S = np.squeeze(merge_stats(val_diff_p_s_S.shape[0], val_diff_amp_S, val_diff_p_s_S, val_entr_S, val_kurt_S, val_mean_S, val_rms_S, val_skew_S, val_std_S))\n",
        "val_stats_V = np.squeeze(merge_stats(val_diff_p_s_V.shape[0], val_diff_amp_V, val_diff_p_s_V, val_entr_V, val_kurt_V, val_mean_V, val_rms_V, val_skew_V, val_std_V))\n",
        "\n",
        "test_stats_S = np.squeeze(merge_stats(test_diff_p_s_S.shape[0], test_diff_amp_S, test_diff_p_s_S, test_entr_S, test_kurt_S, test_mean_S, test_rms_S, test_skew_S, test_std_S))\n",
        "test_stats_V = np.squeeze(merge_stats(test_diff_p_s_V.shape[0], test_diff_amp_V, test_diff_p_s_V, test_entr_V, test_kurt_V, test_mean_V, test_rms_V, test_skew_V, test_std_V))\n"
      ],
      "metadata": {
        "id": "jD7KHu_O-F4U"
      },
      "execution_count": null,
      "outputs": []
    },
    {
      "cell_type": "code",
      "source": [
        "# [0] -> S\n",
        "# [1] -> V\n",
        "\n",
        "X_train=np.concatenate([train_stats_S,train_stats_V,test_stats_S,test_stats_V],axis = 0)\n",
        "y_train=[]\n",
        "for i in range(train_stats_S.shape[0]):\n",
        "  y_train.append([0])\n",
        "for i in range(train_stats_V.shape[0]):\n",
        "  y_train.append([1])\n",
        "for i in range(test_stats_S.shape[0]):\n",
        "  y_train.append([0])\n",
        "for i in range(test_stats_V.shape[0]):\n",
        "  y_train.append([1])\n",
        "y_train=np.array(y_train)\n",
        "\n",
        "X_val=np.concatenate([val_stats_S,val_stats_V],axis = 0)\n",
        "y_val=[]\n",
        "for i in range(val_stats_S.shape[0]):\n",
        "  y_val.append([0])\n",
        "for i in range(val_stats_V.shape[0]):\n",
        "  y_val.append([1])\n",
        "y_val=np.array(y_val)\n",
        "\n",
        "print(X_train.shape)\n",
        "print(X_val.shape)\n",
        "print(y_train.shape)\n",
        "print(y_val.shape)"
      ],
      "metadata": {
        "id": "QnNpDemE-3CP",
        "colab": {
          "base_uri": "https://localhost:8080/"
        },
        "outputId": "8225fb38-9327-462e-ee6c-08b8e804a8e6"
      },
      "execution_count": null,
      "outputs": [
        {
          "output_type": "stream",
          "name": "stdout",
          "text": [
            "(9125, 10)\n",
            "(2103, 10)\n",
            "(9125, 1)\n",
            "(2103, 1)\n"
          ]
        }
      ]
    },
    {
      "cell_type": "markdown",
      "source": [
        "#PCA"
      ],
      "metadata": {
        "id": "lQsJ4T6zOGt3"
      }
    },
    {
      "cell_type": "code",
      "source": [
        "from sklearn.decomposition import PCA\n",
        "from sklearn.preprocessing import StandardScaler\n",
        "import matplotlib.pyplot as plt\n",
        "import numpy as np\n",
        "\n",
        "# Assuming your data is stored in X and labels in y\n",
        "# X.shape should be (9125, 10) and y.shape should be (9125,)\n",
        "\n",
        "# Standardize the data\n",
        "scaler = StandardScaler()\n",
        "X_scaled = scaler.fit_transform(X_train)\n",
        "\n",
        "# Apply PCA\n",
        "pca = PCA()\n",
        "X_pca = pca.fit_transform(X_scaled)\n",
        "\n",
        "\n",
        "explained_variance_ratio = pca.explained_variance_ratio_\n",
        "cumulative_explained_variance = np.cumsum(explained_variance_ratio)\n",
        "plt.figure(figsize=(12, 6))\n",
        "\n",
        "# Plot Explained Variance Ratio\n",
        "plt.subplot(1, 2, 1)\n",
        "plt.bar(range(1, len(explained_variance_ratio) + 1), explained_variance_ratio, alpha=0.8)\n",
        "plt.title('Explained Variance Ratio')\n",
        "plt.xlabel('Principal Component')\n",
        "plt.ylabel('Variance Ratio')\n",
        "\n",
        "# Plot Cumulative Explained Variance\n",
        "plt.subplot(1, 2, 2)\n",
        "plt.plot(range(1, len(cumulative_explained_variance) + 1), cumulative_explained_variance, marker='o', linestyle='--', color='red')\n",
        "plt.title('Cumulative Explained Variance')\n",
        "plt.xlabel('Number of Principal Components')\n",
        "plt.ylabel('Cumulative Variance Ratio')\n",
        "\n",
        "plt.tight_layout()\n",
        "plt.show()\n"
      ],
      "metadata": {
        "colab": {
          "base_uri": "https://localhost:8080/"
        },
        "id": "pBTSwznxOHpU",
        "outputId": "7aca90d4-e969-4d54-ea83-8cfeb41eacf1"
      },
      "execution_count": null,
      "outputs": [
        {
          "output_type": "display_data",
          "data": {
            "text/plain": [
              "<Figure size 1200x600 with 2 Axes>"
            ],
            "image/png": "[encoded data removed]"
          },
          "metadata": {}
        }
      ]
    },
    {
      "cell_type": "code",
      "source": [
        "# Print the loadings for PC1\n",
        "for a in range(4):\n",
        "  print(\"Loadings for PC\",str(a+1),\":\")\n",
        "  loadings_pc1 = pca.components_[a]\n",
        "  for feature, loading in zip(range(1, len(loadings_pc1) + 1), loadings_pc1):\n",
        "      print(f\"Feature {feature}: {loading:.4f}\")\n",
        "  print()\n",
        "  print()"
      ],
      "metadata": {
        "colab": {
          "base_uri": "https://localhost:8080/"
        },
        "id": "e7WKpnLjOtar",
        "outputId": "715565d2-2a0c-4cf7-de01-4d99f3c30f30"
      },
      "execution_count": null,
      "outputs": [
        {
          "output_type": "stream",
          "name": "stdout",
          "text": [
            "Loadings for PC 1 :\n",
            "Feature 1: 0.2477\n",
            "Feature 2: 0.3324\n",
            "Feature 3: 0.0010\n",
            "Feature 4: 0.1964\n",
            "Feature 5: 0.0865\n",
            "Feature 6: 0.3703\n",
            "Feature 7: -0.4373\n",
            "Feature 8: -0.4467\n",
            "Feature 9: 0.4291\n",
            "Feature 10: -0.2647\n",
            "\n",
            "\n",
            "Loadings for PC 2 :\n",
            "Feature 1: 0.1768\n",
            "Feature 2: 0.2162\n",
            "Feature 3: 0.3725\n",
            "Feature 4: 0.5277\n",
            "Feature 5: 0.6002\n",
            "Feature 6: -0.2540\n",
            "Feature 7: 0.0538\n",
            "Feature 8: 0.0950\n",
            "Feature 9: -0.1156\n",
            "Feature 10: 0.2341\n",
            "\n",
            "\n",
            "Loadings for PC 3 :\n",
            "Feature 1: -0.4020\n",
            "Feature 2: -0.3535\n",
            "Feature 3: 0.6326\n",
            "Feature 4: 0.0195\n",
            "Feature 5: 0.1272\n",
            "Feature 6: 0.2552\n",
            "Feature 7: 0.0722\n",
            "Feature 8: -0.0305\n",
            "Feature 9: -0.0015\n",
            "Feature 10: -0.4748\n",
            "\n",
            "\n",
            "Loadings for PC 4 :\n",
            "Feature 1: -0.6778\n",
            "Feature 2: 0.0374\n",
            "Feature 3: 0.0833\n",
            "Feature 4: 0.0543\n",
            "Feature 5: -0.0620\n",
            "Feature 6: -0.1226\n",
            "Feature 7: -0.2932\n",
            "Feature 8: -0.1569\n",
            "Feature 9: 0.3272\n",
            "Feature 10: 0.5411\n",
            "\n",
            "\n"
          ]
        }
      ]
    },
    {
      "cell_type": "code",
      "source": [
        "n_components = 4\n",
        "\n",
        "scaler = StandardScaler()\n",
        "X_train_scaled = scaler.fit_transform(X_train)\n",
        "X_test_scaled = scaler.transform(X_val)\n",
        "\n",
        "pca = PCA(n_components=n_components)\n",
        "X_train_pca = pca.fit_transform(X_train_scaled)\n",
        "X_test_pca = pca.transform(X_test_scaled)"
      ],
      "metadata": {
        "id": "9i6DSdkUP8cl"
      },
      "execution_count": null,
      "outputs": []
    },
    {
      "cell_type": "markdown",
      "source": [
        "#Models"
      ],
      "metadata": {
        "id": "zHZrMmNnskFu"
      }
    },
    {
      "cell_type": "code",
      "source": [
        "from sklearn.metrics import ConfusionMatrixDisplay\n",
        "from sklearn.metrics import confusion_matrix\n",
        "from sklearn.metrics import classification_report\n",
        "from sklearn.metrics import accuracy_score, precision_score, recall_score, f1_score\n",
        "from sklearn.model_selection import GridSearchCV\n",
        "from joblib import dump, load"
      ],
      "metadata": {
        "id": "y_xOC09FslOO"
      },
      "execution_count": null,
      "outputs": []
    },
    {
      "cell_type": "markdown",
      "source": [
        "##Random Forest"
      ],
      "metadata": {
        "id": "YoMueufPsYM7"
      }
    },
    {
      "cell_type": "code",
      "source": [
        "from sklearn.ensemble import RandomForestClassifier\n",
        "\n",
        "param_grid = {\n",
        "    'n_estimators': [10,70,50],\n",
        "    'max_depth': [40, 10, 20],\n",
        "    'min_samples_split': [2, 5, 10],\n",
        "    'min_samples_leaf': [5,10, 15]\n",
        "}\n",
        "\n",
        "scoring_metrics = ['precision_macro', 'recall_macro', 'f1_macro']\n",
        "\n",
        "rf_model=RandomForestClassifier()\n",
        "grid_search = GridSearchCV(estimator=rf_model, param_grid=param_grid, cv=3, scoring=scoring_metrics, refit='f1_macro',n_jobs=-1)\n",
        "\n",
        "grid_search.fit(X_train, y_train)  # Note: y_train should be a 1D array\n",
        "\n",
        "best_params = grid_search.best_params_\n",
        "print(\"Best Parameters:\", best_params)\n",
        "best_model = grid_search.best_estimator_\n",
        "\n",
        "y_pred = best_model.predict(X_val)"
      ],
      "metadata": {
        "id": "jEojfiK4wAhX",
        "colab": {
          "base_uri": "https://localhost:8080/"
        },
        "outputId": "002e6184-5742-4146-a64a-bb6623e4b769"
      },
      "execution_count": null,
      "outputs": [
        {
          "output_type": "stream",
          "name": "stdout",
          "text": [
            "Best Parameters: {'max_depth': 20, 'min_samples_leaf': 15, 'min_samples_split': 10, 'n_estimators': 10}\n"
          ]
        }
      ]
    },
    {
      "cell_type": "code",
      "source": [
        "accuracy = accuracy_score(y_val, y_pred)\n",
        "precision = precision_score(y_val, y_pred, average='macro')\n",
        "recall = recall_score(y_val, y_pred, average='macro')\n",
        "f1 = f1_score(y_val, y_pred, average='macro')\n",
        "print(f\"Accuracy: {accuracy:.2f}\")\n",
        "print(f\"Precision: {precision:.2f}\")\n",
        "print(f\"Recall: {recall:.2f}\")\n",
        "print(f\"F1-score: {f1:.2f}\")\n",
        "\n",
        "print(\"Classification Report:\")\n",
        "print(classification_report(y_val, y_pred))\n",
        "conf_matrix = confusion_matrix(y_val, y_pred)\n",
        "\n",
        "plt.figure(figsize=(8, 6))\n",
        "sns.heatmap(conf_matrix, annot=True, fmt='d', cmap='Blues', xticklabels=['S', 'V'], yticklabels=['S', 'V'])\n",
        "plt.xlabel('Predicted')\n",
        "plt.ylabel('Actual')\n",
        "plt.title('Confusion Matrix')\n",
        "plt.show()"
      ],
      "metadata": {
        "colab": {
          "base_uri": "https://localhost:8080/",
          "height": 807
        },
        "outputId": "9173c3d5-2199-479f-f873-2686c3de41c6",
        "id": "EwzbkaJt2zSy"
      },
      "execution_count": null,
      "outputs": [
        {
          "output_type": "stream",
          "name": "stdout",
          "text": [
            "Accuracy: 0.56\n",
            "Precision: 0.56\n",
            "Recall: 0.56\n",
            "F1-score: 0.56\n",
            "Classification Report:\n",
            "              precision    recall  f1-score   support\n",
            "\n",
            "           0       0.64      0.54      0.59      1212\n",
            "           1       0.48      0.59      0.53       891\n",
            "\n",
            "    accuracy                           0.56      2103\n",
            "   macro avg       0.56      0.56      0.56      2103\n",
            "weighted avg       0.57      0.56      0.56      2103\n",
            "\n"
          ]
        },
        {
          "output_type": "display_data",
          "data": {
            "text/plain": [
              "<Figure size 800x600 with 2 Axes>"
            ],
            "image/png": "[encoded data removed]"
          },
          "metadata": {}
        }
      ]
    },
    {
      "cell_type": "code",
      "source": [
        "dump(best_model, '/content/drive/MyDrive/APPLED_AI_ASSIGMENT/MODELLI/random_forest_model.pkl')\n",
        "#loaded_model = load('/content/drive/MyDrive/APPLED_AI_ASSIGMENT/MODELLI/random_forest_model.pkl')"
      ],
      "metadata": {
        "colab": {
          "base_uri": "https://localhost:8080/"
        },
        "id": "_rVEBYWg12Vi",
        "outputId": "d68404ef-ac25-4747-d8bf-d4798ecf789c"
      },
      "execution_count": null,
      "outputs": [
        {
          "output_type": "execute_result",
          "data": {
            "text/plain": [
              "['/content/drive/MyDrive/APPLED_AI_ASSIGMENT/MODELLI/random_forest_model.pkl']"
            ]
          },
          "metadata": {},
          "execution_count": 31
        }
      ]
    },
    {
      "cell_type": "markdown",
      "source": [
        "##SVM"
      ],
      "metadata": {
        "id": "TPVLMJ92yRbB"
      }
    },
    {
      "cell_type": "code",
      "source": [
        "from sklearn import svm\n",
        "\n",
        "param_grid = {\n",
        "    'C':[0.50,0.1,0.05,0.001],\n",
        "    'kernel':['rbf'],\n",
        "    'gamma':['scale'],\n",
        "    'class_weight':['balanced'],\n",
        "    'verbose':[True]\n",
        "}\n",
        "\n",
        "scoring_metrics = ['precision_macro', 'recall_macro', 'f1_macro']\n",
        "\n",
        "rf_model=svm.SVC()\n",
        "grid_search = GridSearchCV(estimator=rf_model, param_grid=param_grid, cv=3, scoring=scoring_metrics, refit='f1_macro',n_jobs=-1)\n",
        "grid_search.fit(X_train, y_train)\n",
        "\n",
        "best_params = grid_search.best_params_\n",
        "print(\"Best Parameters:\", best_params)\n",
        "\n",
        "best_model = grid_search.best_estimator_\n",
        "y_pred = best_model.predict(X_val)"
      ],
      "metadata": {
        "colab": {
          "base_uri": "https://localhost:8080/"
        },
        "id": "Ng6_xg4jyS1E",
        "outputId": "b10e8f45-91af-41ff-dd81-db0af58644b0"
      },
      "execution_count": null,
      "outputs": [
        {
          "output_type": "stream",
          "name": "stdout",
          "text": [
            "[LibSVM]Best Parameters: {'C': 0.1, 'class_weight': 'balanced', 'gamma': 'scale', 'kernel': 'rbf', 'verbose': True}\n"
          ]
        }
      ]
    },
    {
      "cell_type": "code",
      "source": [
        "accuracy = accuracy_score(y_val, y_pred)\n",
        "precision = precision_score(y_val, y_pred, average='macro')\n",
        "recall = recall_score(y_val, y_pred, average='macro')\n",
        "f1 = f1_score(y_val, y_pred, average='macro')\n",
        "print(f\"Accuracy: {accuracy:.2f}\")\n",
        "print(f\"Precision: {precision:.2f}\")\n",
        "print(f\"Recall: {recall:.2f}\")\n",
        "print(f\"F1-score: {f1:.2f}\")\n",
        "\n",
        "print(\"Classification Report:\")\n",
        "print(classification_report(y_val, y_pred))\n",
        "conf_matrix = confusion_matrix(y_val, y_pred)\n",
        "\n",
        "plt.figure(figsize=(8, 6))\n",
        "sns.heatmap(conf_matrix, annot=True, fmt='d', cmap='Blues', xticklabels=['S', 'V'], yticklabels=['S', 'V'])\n",
        "plt.xlabel('Predicted')\n",
        "plt.ylabel('Actual')\n",
        "plt.title('Confusion Matrix')\n",
        "plt.show()"
      ],
      "metadata": {
        "colab": {
          "base_uri": "https://localhost:8080/",
          "height": 807
        },
        "id": "SFByi_C_4k-m",
        "outputId": "2cc11dc6-0168-4d13-b5e0-c8b322f26a22"
      },
      "execution_count": null,
      "outputs": [
        {
          "output_type": "stream",
          "name": "stdout",
          "text": [
            "Accuracy: 0.44\n",
            "Precision: 0.47\n",
            "Recall: 0.48\n",
            "F1-score: 0.42\n",
            "Classification Report:\n",
            "              precision    recall  f1-score   support\n",
            "\n",
            "           0       0.54      0.23      0.32      1212\n",
            "           1       0.41      0.73      0.53       891\n",
            "\n",
            "    accuracy                           0.44      2103\n",
            "   macro avg       0.47      0.48      0.42      2103\n",
            "weighted avg       0.48      0.44      0.41      2103\n",
            "\n"
          ]
        },
        {
          "output_type": "display_data",
          "data": {
            "text/plain": [
              "<Figure size 800x600 with 2 Axes>"
            ],
            "image/png": "[encoded data removed]"
          },
          "metadata": {}
        }
      ]
    },
    {
      "cell_type": "code",
      "source": [
        "dump(best_model, '/content/drive/MyDrive/APPLED_AI_ASSIGMENT/MODELLI/SVM.pkl')\n",
        "#loaded_model = load('/content/drive/MyDrive/APPLED_AI_ASSIGMENT/MODELLI/SVM.pkl')"
      ],
      "metadata": {
        "colab": {
          "base_uri": "https://localhost:8080/"
        },
        "id": "QTu7jER728c4",
        "outputId": "f01db0e4-28df-4db7-a5a0-22bfc33174c6"
      },
      "execution_count": null,
      "outputs": [
        {
          "output_type": "execute_result",
          "data": {
            "text/plain": [
              "['/content/drive/MyDrive/APPLED_AI_ASSIGMENT/MODELLI/SVM.pkl']"
            ]
          },
          "metadata": {},
          "execution_count": 34
        }
      ]
    },
    {
      "cell_type": "markdown",
      "source": [
        "##KNN"
      ],
      "metadata": {
        "id": "SKfRmB3R3cGJ"
      }
    },
    {
      "cell_type": "code",
      "source": [
        "from sklearn.neighbors import KNeighborsClassifier\n",
        "\n",
        "knn_model = KNeighborsClassifier()\n",
        "\n",
        "param_grid = {\n",
        "    'n_neighbors': [ 5,8,10,12,15,17,20,22,24,30],\n",
        "    'weights': ['uniform', 'distance'],\n",
        "    'p': [1, 2]\n",
        "}\n",
        "\n",
        "scoring_metrics = ['precision_macro', 'recall_macro', 'f1_macro']\n",
        "grid_search = GridSearchCV(estimator=knn_model, param_grid=param_grid, cv=3, scoring=scoring_metrics, refit='f1_macro', n_jobs=-1)\n",
        "grid_search.fit(X_train, y_train)\n",
        "best_params = grid_search.best_params_\n",
        "print(\"Best Parameters:\", best_params)\n",
        "best_knn_model = grid_search.best_estimator_\n",
        "y_pred = best_knn_model.predict(X_val)"
      ],
      "metadata": {
        "colab": {
          "base_uri": "https://localhost:8080/"
        },
        "id": "ze9U09xn3dfC",
        "outputId": "14f7dec2-3992-4bdb-a611-090a6a864d3f"
      },
      "execution_count": null,
      "outputs": [
        {
          "output_type": "stream",
          "name": "stdout",
          "text": [
            "Best Parameters: {'n_neighbors': 15, 'p': 2, 'weights': 'uniform'}\n"
          ]
        }
      ]
    },
    {
      "cell_type": "code",
      "source": [
        "accuracy = accuracy_score(y_val, y_pred)\n",
        "precision = precision_score(y_val, y_pred, average='macro')\n",
        "recall = recall_score(y_val, y_pred, average='macro')\n",
        "f1 = f1_score(y_val, y_pred, average='macro')\n",
        "print(f\"Accuracy: {accuracy:.2f}\")\n",
        "print(f\"Precision: {precision:.2f}\")\n",
        "print(f\"Recall: {recall:.2f}\")\n",
        "print(f\"F1-score: {f1:.2f}\")\n",
        "\n",
        "print(\"Classification Report:\")\n",
        "print(classification_report(y_val, y_pred))\n",
        "conf_matrix = confusion_matrix(y_val, y_pred)\n",
        "\n",
        "plt.figure(figsize=(8, 6))\n",
        "sns.heatmap(conf_matrix, annot=True, fmt='d', cmap='Blues', xticklabels=['S', 'V'], yticklabels=['S', 'V'])\n",
        "plt.xlabel('Predicted')\n",
        "plt.ylabel('Actual')\n",
        "plt.title('Confusion Matrix')\n",
        "plt.show()"
      ],
      "metadata": {
        "colab": {
          "base_uri": "https://localhost:8080/",
          "height": 807
        },
        "outputId": "72d5185a-c8f2-475c-a612-c2e655f3c9a4",
        "id": "0kmQq232436E"
      },
      "execution_count": null,
      "outputs": [
        {
          "output_type": "stream",
          "name": "stdout",
          "text": [
            "Accuracy: 0.57\n",
            "Precision: 0.56\n",
            "Recall: 0.57\n",
            "F1-score: 0.56\n",
            "Classification Report:\n",
            "              precision    recall  f1-score   support\n",
            "\n",
            "           0       0.64      0.57      0.60      1212\n",
            "           1       0.49      0.56      0.52       891\n",
            "\n",
            "    accuracy                           0.57      2103\n",
            "   macro avg       0.56      0.57      0.56      2103\n",
            "weighted avg       0.58      0.57      0.57      2103\n",
            "\n"
          ]
        },
        {
          "output_type": "display_data",
          "data": {
            "text/plain": [
              "<Figure size 800x600 with 2 Axes>"
            ],
            "image/png": "[encoded data removed]"
          },
          "metadata": {}
        }
      ]
    },
    {
      "cell_type": "code",
      "source": [
        "dump(best_model, '/content/drive/MyDrive/APPLED_AI_ASSIGMENT/MODELLI/KNN.pkl')\n",
        "#loaded_model = load('/content/drive/MyDrive/APPLED_AI_ASSIGMENT/MODELLI/KNN.pkl')"
      ],
      "metadata": {
        "colab": {
          "base_uri": "https://localhost:8080/"
        },
        "id": "HuYQXJLHPdeO",
        "outputId": "1ca44953-3189-43d0-f0c3-5c1ad8adfd26"
      },
      "execution_count": null,
      "outputs": [
        {
          "output_type": "execute_result",
          "data": {
            "text/plain": [
              "['/content/drive/MyDrive/APPLED_AI_ASSIGMENT/MODELLI/KNN.pkl']"
            ]
          },
          "metadata": {},
          "execution_count": 37
        }
      ]
    },
    {
      "cell_type": "markdown",
      "source": [
        "####KNN with PCA"
      ],
      "metadata": {
        "id": "oenDjSFKPa8R"
      }
    },
    {
      "cell_type": "code",
      "source": [
        "from sklearn.neighbors import KNeighborsClassifier\n",
        "\n",
        "knn_model = KNeighborsClassifier()\n",
        "\n",
        "param_grid = {\n",
        "    'n_neighbors': [ 5,8,10,12,15,17,20,22,24,30],\n",
        "    'weights': ['uniform', 'distance'],\n",
        "    'p': [1, 2]\n",
        "}\n",
        "\n",
        "scoring_metrics = ['precision_macro', 'recall_macro', 'f1_macro']\n",
        "grid_search = GridSearchCV(estimator=knn_model, param_grid=param_grid, cv=3, scoring=scoring_metrics, refit='f1_macro', n_jobs=-1)\n",
        "grid_search.fit(X_train_pca, y_train)\n",
        "best_params = grid_search.best_params_\n",
        "print(\"Best Parameters:\", best_params)\n",
        "best_knn_model = grid_search.best_estimator_\n",
        "y_pred = best_knn_model.predict(X_test_pca)"
      ],
      "metadata": {
        "colab": {
          "base_uri": "https://localhost:8080/"
        },
        "outputId": "257ff7a4-58b4-452e-dbe7-e8e015be820e",
        "id": "_IJNXEk9QWa9"
      },
      "execution_count": null,
      "outputs": [
        {
          "output_type": "stream",
          "name": "stdout",
          "text": [
            "Best Parameters: {'n_neighbors': 30, 'p': 2, 'weights': 'uniform'}\n"
          ]
        }
      ]
    },
    {
      "cell_type": "code",
      "source": [
        "accuracy = accuracy_score(y_val, y_pred)\n",
        "precision = precision_score(y_val, y_pred, average='macro')\n",
        "recall = recall_score(y_val, y_pred, average='macro')\n",
        "f1 = f1_score(y_val, y_pred, average='macro')\n",
        "print(f\"Accuracy: {accuracy:.2f}\")\n",
        "print(f\"Precision: {precision:.2f}\")\n",
        "print(f\"Recall: {recall:.2f}\")\n",
        "print(f\"F1-score: {f1:.2f}\")\n",
        "\n",
        "print(\"Classification Report:\")\n",
        "print(classification_report(y_val, y_pred))\n",
        "conf_matrix = confusion_matrix(y_val, y_pred)\n",
        "\n",
        "plt.figure(figsize=(8, 6))\n",
        "sns.heatmap(conf_matrix, annot=True, fmt='d', cmap='Blues', xticklabels=['S', 'V'], yticklabels=['S', 'V'])\n",
        "plt.xlabel('Predicted')\n",
        "plt.ylabel('Actual')\n",
        "plt.title('Confusion Matrix')\n",
        "plt.show()"
      ],
      "metadata": {
        "colab": {
          "base_uri": "https://localhost:8080/",
          "height": 807
        },
        "outputId": "56688c44-4c3e-40e4-9f75-34ab6444b315",
        "id": "pvT4PQQlQWa-"
      },
      "execution_count": null,
      "outputs": [
        {
          "output_type": "stream",
          "name": "stdout",
          "text": [
            "Accuracy: 0.52\n",
            "Precision: 0.52\n",
            "Recall: 0.52\n",
            "F1-score: 0.51\n",
            "Classification Report:\n",
            "              precision    recall  f1-score   support\n",
            "\n",
            "           0       0.59      0.52      0.56      1212\n",
            "           1       0.44      0.51      0.47       891\n",
            "\n",
            "    accuracy                           0.52      2103\n",
            "   macro avg       0.52      0.52      0.51      2103\n",
            "weighted avg       0.53      0.52      0.52      2103\n",
            "\n"
          ]
        },
        {
          "output_type": "display_data",
          "data": {
            "text/plain": [
              "<Figure size 800x600 with 2 Axes>"
            ],
            "image/png": "[encoded data removed]"
          },
          "metadata": {}
        }
      ]
    },
    {
      "cell_type": "code",
      "source": [
        "dump(best_model, '/content/drive/MyDrive/APPLED_AI_ASSIGMENT/MODELLI/KNN_PCA.pkl')\n",
        "#loaded_model = load('/content/drive/MyDrive/APPLED_AI_ASSIGMENT/MODELLI/KNN_PCA.pkl')"
      ],
      "metadata": {
        "colab": {
          "base_uri": "https://localhost:8080/"
        },
        "id": "-FIEK8BI4_H2",
        "outputId": "01111289-4040-4244-8300-25ca5171d7fc"
      },
      "execution_count": null,
      "outputs": [
        {
          "output_type": "execute_result",
          "data": {
            "text/plain": [
              "['/content/drive/MyDrive/APPLED_AI_ASSIGMENT/MODELLI/KNN_PCA.pkl']"
            ]
          },
          "metadata": {},
          "execution_count": 40
        }
      ]
    }
  ]
}